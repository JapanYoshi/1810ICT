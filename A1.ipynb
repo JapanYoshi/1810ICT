{
  "nbformat": 4,
  "nbformat_minor": 0,
  "metadata": {
    "colab": {
      "name": "A1.ipynb",
      "provenance": [],
      "collapsed_sections": [],
      "mount_file_id": "195iVNS7YNR_EW_KKis2JPaozAObeS0ST",
      "authorship_tag": "ABX9TyNzszVJ87c9NVCeCJoaGL7N"
    },
    "kernelspec": {
      "name": "python3",
      "display_name": "Python 3"
    }
  },
  "cells": [
    {
      "cell_type": "code",
      "metadata": {
        "id": "QHEaAkwq_n6q",
        "colab_type": "code",
        "colab": {}
      },
      "source": [
        "import numpy as np\n",
        "import pandas as pd\n",
        "import matplotlib.pyplot as plt\n",
        "%matplotlib inline"
      ],
      "execution_count": 0,
      "outputs": []
    },
    {
      "cell_type": "markdown",
      "metadata": {
        "id": "UGfqjkf3AVgE",
        "colab_type": "text"
      },
      "source": [
        "> In  this  assignment, you  will  need  to  apply  data  analytics,  using  the  tools  introduced  during the labs.You are required to study the SEEK job market dataand analyze. The assignment consists  of  3  parts. In  the  first  part, you  will  need  to understand  data  characteristicsusing data preparation and preprocessing techniques.In the second part, you will perform various data  analysis  techniques,  including  exploratory,  statistical,  and  predictiveones.In  the  third part,you will need to evaluate your findings and determine appropriate future actions.\n",
        "\n",
        "# Part 1 – Data Preparation and Preprocessing [8 points]\n",
        "> * The  primary  dataset  that  we  would  like  to  use  is  the job  market  dataset  which  is provided in CSV format (data.csv).\n",
        "> * Perform data preparation and preprocessing for your analysis"
      ]
    },
    {
      "cell_type": "code",
      "metadata": {
        "id": "2C9HA1L8Apvq",
        "colab_type": "code",
        "outputId": "f2f121a0-cb72-40df-c766-5fb2bb88e029",
        "colab": {
          "base_uri": "https://localhost:8080/",
          "height": 228
        }
      },
      "source": [
        "df = pd.read_csv(\"/content/drive/My Drive/ColabBDA/data.csv\")\n",
        "print(df.head())\n",
        "print(df.shape)"
      ],
      "execution_count": 0,
      "outputs": [
        {
          "output_type": "stream",
          "text": [
            "         Id  ... JobType\n",
            "0  37404348  ...     NaN\n",
            "1  37404337  ...     NaN\n",
            "2  37404356  ...     NaN\n",
            "3  37404330  ...     NaN\n",
            "4  37404308  ...     NaN\n",
            "\n",
            "[5 rows x 13 columns]\n",
            "(318477, 13)\n"
          ],
          "name": "stdout"
        },
        {
          "output_type": "stream",
          "text": [
            "/usr/local/lib/python3.6/dist-packages/IPython/core/interactiveshell.py:2718: DtypeWarning: Columns (0,4,5,6,7) have mixed types. Specify dtype option on import or set low_memory=False.\n",
            "  interactivity=interactivity, compiler=compiler, result=result)\n"
          ],
          "name": "stderr"
        }
      ]
    },
    {
      "cell_type": "markdown",
      "metadata": {
        "id": "SlJsnySfP4VD",
        "colab_type": "text"
      },
      "source": [
        "The data was provided in CSV format, so to load it into ``Pandas``, the in-built ``read_csv`` fuction will suffice. This will return a ``DataFrame``, which we will call ``df`` out of tradition.\n",
        "\n",
        "This may be stating the obvious, but ``df.shape`` tells us how many rows and columns there are. In this case, it is telling us that there are 13 attributes for 318477 listings."
      ]
    },
    {
      "cell_type": "code",
      "metadata": {
        "id": "Q5ndVWnCBVeS",
        "colab_type": "code",
        "outputId": "172af9ac-7edb-4743-9794-88ec39263c25",
        "colab": {
          "base_uri": "https://localhost:8080/",
          "height": 677
        }
      },
      "source": [
        "print(df.info())\n",
        "# some of these should be special types\n",
        "def strip_amp(x):\n",
        "  x = str(x)\n",
        "  try:\n",
        "    i = x.index(\"&\")\n",
        "  except ValueError:\n",
        "    return x\n",
        "  return x[0:i]\n",
        "df.Id = df.Id.apply(strip_amp)\n",
        "\n",
        "df[\"Id\"] = pd.to_numeric(df[\"Id\"])\n",
        "df[\"Date\"] = pd.to_datetime(df[\"Date\"])\n",
        "# check types again\n",
        "print(df.info())"
      ],
      "execution_count": 0,
      "outputs": [
        {
          "output_type": "stream",
          "text": [
            "<class 'pandas.core.frame.DataFrame'>\n",
            "RangeIndex: 318477 entries, 0 to 318476\n",
            "Data columns (total 13 columns):\n",
            "Id                   318477 non-null object\n",
            "Title                318477 non-null object\n",
            "Company              306473 non-null object\n",
            "Date                 318477 non-null object\n",
            "Location             197229 non-null object\n",
            "Area                 122658 non-null object\n",
            "Classification       197229 non-null object\n",
            "SubClassification    197229 non-null object\n",
            "Requirement          318470 non-null object\n",
            "FullDescription      302302 non-null object\n",
            "LowestSalary         318477 non-null int64\n",
            "HighestSalary        318477 non-null int64\n",
            "JobType              302379 non-null object\n",
            "dtypes: int64(2), object(11)\n",
            "memory usage: 31.6+ MB\n",
            "None\n",
            "<class 'pandas.core.frame.DataFrame'>\n",
            "RangeIndex: 318477 entries, 0 to 318476\n",
            "Data columns (total 13 columns):\n",
            "Id                   318477 non-null int64\n",
            "Title                318477 non-null object\n",
            "Company              306473 non-null object\n",
            "Date                 318477 non-null datetime64[ns, UTC]\n",
            "Location             197229 non-null object\n",
            "Area                 122658 non-null object\n",
            "Classification       197229 non-null object\n",
            "SubClassification    197229 non-null object\n",
            "Requirement          318470 non-null object\n",
            "FullDescription      302302 non-null object\n",
            "LowestSalary         318477 non-null int64\n",
            "HighestSalary        318477 non-null int64\n",
            "JobType              302379 non-null object\n",
            "dtypes: datetime64[ns, UTC](1), int64(3), object(9)\n",
            "memory usage: 31.6+ MB\n",
            "None\n"
          ],
          "name": "stdout"
        }
      ]
    },
    {
      "cell_type": "markdown",
      "metadata": {
        "id": "PfHMgbdVApiJ",
        "colab_type": "text"
      },
      "source": [
        "The ``Id`` column seems to have been extracted from the URL, but some Media Queries were left in the data. However, in attempting to convert column Id to numeric, I came across this error:\n",
        "\n",
        "    ValueError: Unable to parse string \"37915260&searchrequesttoken=e859cc74-e22f-498d-ac7c-77a7e1b45676\" at position 153767\n",
        "\n",
        "This signaled me that I needed to sanitize the input. That is, if an ``&`` is present, use the substring up to but not including that point.\n",
        "I had to strip the media queries out, in order to reduce unexpected data types, though I suppose it doesn't matter too much while analyzing the data.\n",
        "\n",
        "I also converted the ``Date`` column to the inbuilt ``datetime`` type for Pandas."
      ]
    },
    {
      "cell_type": "code",
      "metadata": {
        "id": "2RpXcrplNyxl",
        "colab_type": "code",
        "outputId": "69d63ee9-fef5-476e-dd54-71a1bd6631fd",
        "colab": {
          "base_uri": "https://localhost:8080/",
          "height": 1000
        }
      },
      "source": [
        "print(\"# Unique Title (first 8)\")\n",
        "print(df.Title.value_counts()[:8], \"\\n Count:\", len(df.Title.unique()))\n",
        "print(\"\\n# Unique Company (first 8)\")\n",
        "print(df.Company.value_counts()[:8], \"\\n Count:\", len(df.Company.unique()))\n",
        "print(\"\\n# Unique Location (last 8)\")\n",
        "print(df.Location.value_counts()[-8:], \"\\n Count:\", len(df.Location.unique()))\n",
        "print(\"\\n# Unique Area (all)\")\n",
        "print(df.Area.value_counts(), \"\\n Count:\", len(df.Area.unique()))\n",
        "print(\"\\n# Unique Classification (first 8)\")\n",
        "print(df.Classification.value_counts()[:8], \"\\n Count:\", len(df.Classification.unique()))\n",
        "print(\"\\n# Unique SubClassification (first 8)\")\n",
        "print(df.SubClassification.value_counts()[:8], \"\\n Count:\", len(df.SubClassification.unique()))\n",
        "print(\"\\n# Unique Requirement (last 8)\") # Seems like free text\n",
        "print(df.Requirement.value_counts()[-8:], \"\\n Count:\", len(df.Requirement.unique()))\n",
        "print(\"\\n# Unique JobType (all)\") # Seems like there is only 4 categories plus nan\n",
        "print(df.JobType.value_counts(), \"\\n Count:\", len(df.JobType.unique()))\n",
        "print(\"\\n\")\n",
        "print(1 - (len(df.Requirement.unique()) / df.shape[0]))"
      ],
      "execution_count": 0,
      "outputs": [
        {
          "output_type": "stream",
          "text": [
            "# Unique Title (first 8)\n",
            "Project Manager                 1298\n",
            "Business Analyst                 830\n",
            "Business Development Manager     817\n",
            "Administration Assistant         725\n",
            "Executive Assistant              660\n",
            "Receptionist                     609\n",
            "Registered Nurse                 594\n",
            "Customer Service Officer         517\n",
            "Name: Title, dtype: int64 \n",
            " Count: 168065\n",
            "\n",
            "# Unique Company (first 8)\n",
            "Jora Local                                                                          9354\n",
            "Hudson                                                                              1668\n",
            "Design & Build                                                                      1547\n",
            "Robert Walters                                                                      1385\n",
            "Paxus                                                                               1325\n",
            "Talent – Winner ‘Seek Large Recruitment Agency of the Year’ 3 consecutive years!    1280\n",
            "Chandler Macleod Group                                                              1252\n",
            "Programmed Skilled Workforce                                                        1211\n",
            "Name: Company, dtype: int64 \n",
            " Count: 40629\n",
            "\n",
            "# Unique Location (last 8)\n",
            "Riverland & Murray Mallee               149\n",
            "Richmond & Hawkesbury                   140\n",
            "Coober Pedy & Outback SA                112\n",
            "Yorke Peninsula & Clare Valley           96\n",
            "Tumut, Snowy & Monaro                    86\n",
            "Somerset & Lockyer                       65\n",
            "Fleurieu Peninsula & Kangaroo Island     64\n",
            "Central & South East TAS                 57\n",
            "Name: Location, dtype: int64 \n",
            " Count: 66\n",
            "\n",
            "# Unique Area (all)\n",
            "CBD & Inner Suburbs                    32170\n",
            "CBD, Inner West & Eastern Suburbs      29059\n",
            "Parramatta & Western Suburbs            8769\n",
            "Bayside & South Eastern Suburbs         6707\n",
            "North Shore & Northern Beaches          6656\n",
            "Northern Suburbs                        6436\n",
            "Eastern Suburbs                         6361\n",
            "CBD, Inner & Western Suburbs            5570\n",
            "Western Suburbs                         4285\n",
            "South West & M5 Corridor                3190\n",
            "Southern Suburbs & Sutherland Shire     2239\n",
            "Southern Suburbs & Logan                2137\n",
            "Ryde & Macquarie Park                   1960\n",
            "North West & Hills District             1905\n",
            "Fremantle & Southern Suburbs            1804\n",
            "Northern Suburbs & Joondalup            1199\n",
            "Western Suburbs & Ipswich               1190\n",
            "Bayside & Eastern Suburbs                657\n",
            "Rockingham & Kwinana                     364\n",
            "Name: Area, dtype: int64 \n",
            " Count: 20\n",
            "\n",
            "# Unique Classification (first 8)\n",
            "Information & Communication Technology    22796\n",
            "Trades & Services                         17976\n",
            "Healthcare & Medical                      17085\n",
            "Hospitality & Tourism                     15523\n",
            "Manufacturing, Transport & Logistics      12376\n",
            "Administration & Office Support           10020\n",
            "Accounting                                 9368\n",
            "Education & Training                       9280\n",
            "Name: Classification, dtype: int64 \n",
            " Count: 31\n",
            "\n",
            "# Unique SubClassification (first 8)\n",
            "Other                                  11349\n",
            "Management                              6236\n",
            "Chefs/Cooks                             4600\n",
            "Administrative Assistants               4572\n",
            "Developers/Programmers                  4211\n",
            "Retail Assistants                       3902\n",
            "Government - State                      3701\n",
            "Warehousing, Storage & Distribution     3636\n",
            "Name: SubClassification, dtype: int64 \n",
            " Count: 339\n",
            "\n",
            "# Unique Requirement (last 8)\n",
            "Indesign Media Asia Pacific is looking for Junior .Net, C# developer to join our small Agile development team based at our HQ office Surry Hills.    1\n",
            "Exciting Team Administrator role for a 6 month contract. Be an integral member of the team!                                                          1\n",
            "We're on the hunt for energetic and talented people to join our growing Front of House team!                                                         1\n",
            "Great opportunity for an experienced Site Administrator!                                                                                             1\n",
            "Executive Assistant, Parramatta Location, $40p/h + Super, Immediate Start until the end of December 2018.                                            1\n",
            "Looking for a skilled independent full stack developer who wants to have their voice heard and contribute massively to a newly created platform      1\n",
            "The role's purpose is to achieve the optimal balance between producing a quality and compliant product while assisting with overall efficiencies.    1\n",
            "THIS IS NOT A JOB OFFER BUT A GREAT BUSINESS OPPORTUNITY                                                                                             1\n",
            "Name: Requirement, dtype: int64 \n",
            " Count: 234288\n",
            "\n",
            "# Unique JobType (all)\n",
            "Full Time          201225\n",
            "Contract/Temp       53906\n",
            "Casual/Vacation     25355\n",
            "Part Time           21893\n",
            "Name: JobType, dtype: int64 \n",
            " Count: 5\n",
            "\n",
            "\n",
            "0.2643487598790494\n"
          ],
          "name": "stdout"
        }
      ]
    },
    {
      "cell_type": "markdown",
      "metadata": {
        "id": "DH-1q-6zQHra",
        "colab_type": "text"
      },
      "source": [
        "As a reminder, there are 318477 job listings. There are 40629 companies, which posted job offers in 65 locations (some of which did not list a location).\n",
        "\n",
        "There were only 20 unique areas, and they seemed barely kind of familiar to me, so I thought they were all parts of only a few locations. I may further investigate this later.\n",
        "\n",
        "Requirements seem to be just free text, and do not seem to give any quantifiable information, unless we are specifically looking for a keyword already. I think we can drop this column.\n",
        "\n",
        "It is interesting that requirements are not unique, because from 318477 listings, there were only 234288 unique requirements. That means that 26.4% of all listings have the same requirements as another listing, possibly a parallel job listing from the same company in a different location (assuming they don't plagiarize each other)."
      ]
    },
    {
      "cell_type": "code",
      "metadata": {
        "id": "GUok_biCX1nY",
        "colab_type": "code",
        "outputId": "7cf2562b-f0a6-49b4-d7f8-4826b851543a",
        "colab": {
          "base_uri": "https://localhost:8080/",
          "height": 1000
        }
      },
      "source": [
        "df.drop(\"Requirement\", axis=1)"
      ],
      "execution_count": 0,
      "outputs": [
        {
          "output_type": "execute_result",
          "data": {
            "text/html": [
              "<div>\n",
              "<style scoped>\n",
              "    .dataframe tbody tr th:only-of-type {\n",
              "        vertical-align: middle;\n",
              "    }\n",
              "\n",
              "    .dataframe tbody tr th {\n",
              "        vertical-align: top;\n",
              "    }\n",
              "\n",
              "    .dataframe thead th {\n",
              "        text-align: right;\n",
              "    }\n",
              "</style>\n",
              "<table border=\"1\" class=\"dataframe\">\n",
              "  <thead>\n",
              "    <tr style=\"text-align: right;\">\n",
              "      <th></th>\n",
              "      <th>Id</th>\n",
              "      <th>Title</th>\n",
              "      <th>Company</th>\n",
              "      <th>Date</th>\n",
              "      <th>Location</th>\n",
              "      <th>Area</th>\n",
              "      <th>Classification</th>\n",
              "      <th>SubClassification</th>\n",
              "      <th>FullDescription</th>\n",
              "      <th>LowestSalary</th>\n",
              "      <th>HighestSalary</th>\n",
              "      <th>JobType</th>\n",
              "    </tr>\n",
              "  </thead>\n",
              "  <tbody>\n",
              "    <tr>\n",
              "      <th>0</th>\n",
              "      <td>37404348</td>\n",
              "      <td>Casual Stock Replenisher</td>\n",
              "      <td>Aldi Stores</td>\n",
              "      <td>2018-10-07 00:00:00+00:00</td>\n",
              "      <td>Sydney</td>\n",
              "      <td>North West &amp; Hills District</td>\n",
              "      <td>Retail &amp; Consumer Products</td>\n",
              "      <td>Retail Assistants</td>\n",
              "      <td>NaN</td>\n",
              "      <td>0</td>\n",
              "      <td>30</td>\n",
              "      <td>NaN</td>\n",
              "    </tr>\n",
              "    <tr>\n",
              "      <th>1</th>\n",
              "      <td>37404337</td>\n",
              "      <td>Casual Stock Replenisher</td>\n",
              "      <td>Aldi Stores</td>\n",
              "      <td>2018-10-07 00:00:00+00:00</td>\n",
              "      <td>Richmond &amp; Hawkesbury</td>\n",
              "      <td>NaN</td>\n",
              "      <td>Retail &amp; Consumer Products</td>\n",
              "      <td>Retail Assistants</td>\n",
              "      <td>NaN</td>\n",
              "      <td>0</td>\n",
              "      <td>30</td>\n",
              "      <td>NaN</td>\n",
              "    </tr>\n",
              "    <tr>\n",
              "      <th>2</th>\n",
              "      <td>37404356</td>\n",
              "      <td>RETAIL SALES SUPERSTARS and STYLISTS Wanted - ...</td>\n",
              "      <td>LB Creative Pty Ltd</td>\n",
              "      <td>2018-10-07 00:00:00+00:00</td>\n",
              "      <td>Brisbane</td>\n",
              "      <td>CBD &amp; Inner Suburbs</td>\n",
              "      <td>Retail &amp; Consumer Products</td>\n",
              "      <td>Retail Assistants</td>\n",
              "      <td>NaN</td>\n",
              "      <td>0</td>\n",
              "      <td>30</td>\n",
              "      <td>NaN</td>\n",
              "    </tr>\n",
              "    <tr>\n",
              "      <th>3</th>\n",
              "      <td>37404330</td>\n",
              "      <td>Team member - Belrose</td>\n",
              "      <td>Anaconda Group Pty Ltd</td>\n",
              "      <td>2018-10-07 00:00:00+00:00</td>\n",
              "      <td>Gosford &amp; Central Coast</td>\n",
              "      <td>NaN</td>\n",
              "      <td>Retail &amp; Consumer Products</td>\n",
              "      <td>Retail Assistants</td>\n",
              "      <td>NaN</td>\n",
              "      <td>0</td>\n",
              "      <td>30</td>\n",
              "      <td>NaN</td>\n",
              "    </tr>\n",
              "    <tr>\n",
              "      <th>4</th>\n",
              "      <td>37404308</td>\n",
              "      <td>Business Banking Contact Centre Specialist, Ni...</td>\n",
              "      <td>Commonwealth Bank - Business &amp; Private Banking</td>\n",
              "      <td>2018-10-07 00:00:00+00:00</td>\n",
              "      <td>Sydney</td>\n",
              "      <td>Ryde &amp; Macquarie Park</td>\n",
              "      <td>Call Centre &amp; Customer Service</td>\n",
              "      <td>Sales - Inbound</td>\n",
              "      <td>NaN</td>\n",
              "      <td>0</td>\n",
              "      <td>30</td>\n",
              "      <td>NaN</td>\n",
              "    </tr>\n",
              "    <tr>\n",
              "      <th>...</th>\n",
              "      <td>...</td>\n",
              "      <td>...</td>\n",
              "      <td>...</td>\n",
              "      <td>...</td>\n",
              "      <td>...</td>\n",
              "      <td>...</td>\n",
              "      <td>...</td>\n",
              "      <td>...</td>\n",
              "      <td>...</td>\n",
              "      <td>...</td>\n",
              "      <td>...</td>\n",
              "      <td>...</td>\n",
              "    </tr>\n",
              "    <tr>\n",
              "      <th>318472</th>\n",
              "      <td>38564891</td>\n",
              "      <td>Program Manager - Trade Reporting</td>\n",
              "      <td>Talenza</td>\n",
              "      <td>2019-03-13 00:00:00+00:00</td>\n",
              "      <td>NaN</td>\n",
              "      <td>NaN</td>\n",
              "      <td>NaN</td>\n",
              "      <td>NaN</td>\n",
              "      <td>NaN</td>\n",
              "      <td>200</td>\n",
              "      <td>999</td>\n",
              "      <td>NaN</td>\n",
              "    </tr>\n",
              "    <tr>\n",
              "      <th>318473</th>\n",
              "      <td>38564940</td>\n",
              "      <td>Web Content Writer - June 2019 contract</td>\n",
              "      <td>Talent – Winner ‘Seek Large Recruitment Agency...</td>\n",
              "      <td>2019-03-13 00:00:00+00:00</td>\n",
              "      <td>NaN</td>\n",
              "      <td>NaN</td>\n",
              "      <td>NaN</td>\n",
              "      <td>NaN</td>\n",
              "      <td>NaN</td>\n",
              "      <td>200</td>\n",
              "      <td>999</td>\n",
              "      <td>NaN</td>\n",
              "    </tr>\n",
              "    <tr>\n",
              "      <th>318474</th>\n",
              "      <td>38552964</td>\n",
              "      <td>Brand Director - Global Premium Brand</td>\n",
              "      <td>Retail Career Consulting Pty Ltd</td>\n",
              "      <td>2019-03-12 00:00:00+00:00</td>\n",
              "      <td>NaN</td>\n",
              "      <td>NaN</td>\n",
              "      <td>NaN</td>\n",
              "      <td>NaN</td>\n",
              "      <td>NaN</td>\n",
              "      <td>200</td>\n",
              "      <td>999</td>\n",
              "      <td>NaN</td>\n",
              "    </tr>\n",
              "    <tr>\n",
              "      <th>318475</th>\n",
              "      <td>38534438</td>\n",
              "      <td>Head of Financial Planning, Reporting &amp; Strategy</td>\n",
              "      <td>Moir Group</td>\n",
              "      <td>2019-03-08 00:00:00+00:00</td>\n",
              "      <td>NaN</td>\n",
              "      <td>NaN</td>\n",
              "      <td>NaN</td>\n",
              "      <td>NaN</td>\n",
              "      <td>NaN</td>\n",
              "      <td>200</td>\n",
              "      <td>999</td>\n",
              "      <td>NaN</td>\n",
              "    </tr>\n",
              "    <tr>\n",
              "      <th>318476</th>\n",
              "      <td>38561751</td>\n",
              "      <td>Head of Operations - EOI</td>\n",
              "      <td>Austcorp Executive</td>\n",
              "      <td>2019-03-13 00:00:00+00:00</td>\n",
              "      <td>NaN</td>\n",
              "      <td>NaN</td>\n",
              "      <td>NaN</td>\n",
              "      <td>NaN</td>\n",
              "      <td>NaN</td>\n",
              "      <td>200</td>\n",
              "      <td>999</td>\n",
              "      <td>NaN</td>\n",
              "    </tr>\n",
              "  </tbody>\n",
              "</table>\n",
              "<p>318477 rows × 12 columns</p>\n",
              "</div>"
            ],
            "text/plain": [
              "              Id  ... JobType\n",
              "0       37404348  ...     NaN\n",
              "1       37404337  ...     NaN\n",
              "2       37404356  ...     NaN\n",
              "3       37404330  ...     NaN\n",
              "4       37404308  ...     NaN\n",
              "...          ...  ...     ...\n",
              "318472  38564891  ...     NaN\n",
              "318473  38564940  ...     NaN\n",
              "318474  38552964  ...     NaN\n",
              "318475  38534438  ...     NaN\n",
              "318476  38561751  ...     NaN\n",
              "\n",
              "[318477 rows x 12 columns]"
            ]
          },
          "metadata": {
            "tags": []
          },
          "execution_count": 5
        }
      ]
    },
    {
      "cell_type": "markdown",
      "metadata": {
        "id": "GHR4WHi_8aXD",
        "colab_type": "text"
      },
      "source": [
        "# Part 2 – Data Analysis and Interpretation [17 points]\n",
        "* Perform exploratory data analysis\n",
        "* Perform statisticaldata analysis\n",
        "* Perform predictive data analysis\n",
        "* Submit your Jupyter notebook in your Github repository"
      ]
    },
    {
      "cell_type": "markdown",
      "metadata": {
        "id": "cQXRBpHZ_0TL",
        "colab_type": "text"
      },
      "source": [
        "## 1) Study the job metadata. Extract the relevant information to describe the job’s attributes.\n",
        "For example:\n",
        "* What is the sector, sub-sector of each job?\n",
        "* Where is the location of the job?\n",
        "* Which is the range of salaries for each job?\n",
        "-----\n",
        "I will assume that this means that I will get a job listing's row as input and I need to provide the metadata."
      ]
    },
    {
      "cell_type": "code",
      "metadata": {
        "id": "BTWcn5vz8oFq",
        "colab_type": "code",
        "outputId": "eeab1e76-7d6b-4617-cc08-6ef6938dcffe",
        "colab": {
          "base_uri": "https://localhost:8080/",
          "height": 104
        }
      },
      "source": [
        "def print_data(input_row):\n",
        "  this_job = df.iloc[input_row]\n",
        "  # print(df.iloc[input_row])\n",
        "  print(\"Title:\", this_job.Title)\n",
        "  print(\"Sector:\", this_job.Classification)\n",
        "  print(\"Sub-sector:\", this_job.SubClassification)\n",
        "  print(\"Location:\", this_job.Location, (\"(\" + str(this_job.Area) + \")\") if this_job.Area else \"\")\n",
        "  print(\"Salary range:\", str(this_job.LowestSalary) + \"~\" + str(this_job.HighestSalary))\n",
        "\n",
        "input_row = 286846\n",
        "print_data(input_row)"
      ],
      "execution_count": 0,
      "outputs": [
        {
          "output_type": "stream",
          "text": [
            "Title: Domestic Family Violence Specialist Facilitator\n",
            "Sector: nan\n",
            "Sub-sector: nan\n",
            "Location: nan (nan)\n",
            "Salary range: 70~80\n"
          ],
          "name": "stdout"
        }
      ]
    },
    {
      "cell_type": "markdown",
      "metadata": {
        "id": "FJlLzvlN_7q6",
        "colab_type": "text"
      },
      "source": [
        "I coded the function and tested it on several different inputs. It revealed that sector, sub-sector, and location may be missing from the listing!\n",
        "\n",
        "    > print_data(286846)\n",
        "    Title: Domestic Family Violence Specialist Facilitator\n",
        "    Sector: nan\n",
        "    Sub-sector: nan\n",
        "    Location: nan (nan)\n",
        "    Salary range: 70~80\n",
        "\n",
        "Are these valid listings? It could be that, according to the hosting site from which the data came, yes, they are. Or it could be that the data scraping has failed partially. I'll leave them in just in case."
      ]
    },
    {
      "cell_type": "markdown",
      "metadata": {
        "id": "SAVmqWCPIHce",
        "colab_type": "text"
      },
      "source": [
        "## 2) Study the market by locations. For example:\n",
        "* What is  the  market size in  each  city?\n",
        "* Which  are  the  hottest  job  sectors  in each city?\n",
        "* Which  range  of  salary  is  common  in  each  city?\n",
        "* Where  are  the  employees more well-paid?\n",
        "* Can  you  detect  the pattern  of  posting:  e.g.  are  more  jobs  posted  at  the beginning of month?"
      ]
    },
    {
      "cell_type": "code",
      "metadata": {
        "id": "ts02Iv39AFoO",
        "colab_type": "code",
        "outputId": "64efd168-b87a-4867-ab35-d03a7092197e",
        "colab": {
          "base_uri": "https://localhost:8080/",
          "height": 803
        }
      },
      "source": [
        "# market size per city\n",
        "print(\"Market size per city:\")\n",
        "print(df.Location.value_counts(), \"\\n Count:\", len(df.Location.unique()))\n",
        "\n",
        "print(\"\\nUnique sectors per city:\")\n",
        "print(df.groupby(['Location','Classification'])['Id'].count())\n",
        "\n",
        "print(\"Day of the month to post\")\n",
        "plt.plot(df.Date.dt.day.value_counts().sort_index())"
      ],
      "execution_count": 14,
      "outputs": [
        {
          "output_type": "stream",
          "text": [
            "Market size per city:\n",
            "Sydney                                  60765\n",
            "Melbourne                               46690\n",
            "Brisbane                                21466\n",
            "Perth                                   13198\n",
            "Adelaide                                 6653\n",
            "                                        ...  \n",
            "Yorke Peninsula & Clare Valley             96\n",
            "Tumut, Snowy & Monaro                      86\n",
            "Somerset & Lockyer                         65\n",
            "Fleurieu Peninsula & Kangaroo Island       64\n",
            "Central & South East TAS                   57\n",
            "Name: Location, Length: 65, dtype: int64 \n",
            " Count: 66\n",
            "\n",
            "Unique sectors per city:\n",
            "Location                        Classification                      \n",
            "ACT                             Accounting                              180\n",
            "                                Administration & Office Support         319\n",
            "                                Advertising, Arts & Media                22\n",
            "                                Banking & Financial Services             47\n",
            "                                CEO & General Management                 22\n",
            "                                                                       ... \n",
            "Yorke Peninsula & Clare Valley  Manufacturing, Transport & Logistics      3\n",
            "                                Mining, Resources & Energy                5\n",
            "                                Retail & Consumer Products                1\n",
            "                                Sales                                     2\n",
            "                                Trades & Services                        17\n",
            "Name: Id, Length: 1643, dtype: int64\n",
            "Day of the month to post\n"
          ],
          "name": "stdout"
        },
        {
          "output_type": "execute_result",
          "data": {
            "text/plain": [
              "[<matplotlib.lines.Line2D at 0x7f05d5d00a58>]"
            ]
          },
          "metadata": {
            "tags": []
          },
          "execution_count": 14
        },
        {
          "output_type": "display_data",
          "data": {
            "image/png": "[encoded data removed]",
            "text/plain": [
              "<Figure size 432x288 with 1 Axes>"
            ]
          },
          "metadata": {
            "tags": []
          }
        }
      ]
    },
    {
      "cell_type": "markdown",
      "metadata": {
        "id": "cOyZnOMWK01g",
        "colab_type": "text"
      },
      "source": [
        "Unsurprisingly, most jobs are in well-known places.\n",
        "\n",
        "I tried to analyze each location concurrently, but I have no idea how to do that, and my attempts resulted in this error:\n",
        "\n",
        "    ValueError: 'Location' is both an index level and a column label, which is ambiguous.\n",
        "\n",
        "After consulting some online documents, I managed to get a table of locations and sectors. However, I could not figure out how to sort by count within each location, or how to filter only the most common sector for each location. I have to throw in the towel for this part of this section for now.\n",
        "\n",
        "The date of posting seems to diminish at the last third of the month. Interestingly, there is a small surge back up before the first of the month."
      ]
    },
    {
      "cell_type": "code",
      "metadata": {
        "id": "k5inC6AObCpC",
        "colab_type": "code",
        "colab": {}
      },
      "source": [
        ""
      ],
      "execution_count": 0,
      "outputs": []
    }
  ]
}